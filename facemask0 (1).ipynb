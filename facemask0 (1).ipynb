{
  "nbformat": 4,
  "nbformat_minor": 0,
  "metadata": {
    "colab": {
      "name": "facemask0.ipynb",
      "provenance": [],
      "collapsed_sections": []
    },
    "kernelspec": {
      "name": "python3",
      "display_name": "Python 3"
    },
    "language_info": {
      "name": "python"
    }
  },
  "cells": [
    {
      "cell_type": "code",
      "source": [
        "from tensorflow.keras.models import Sequential\n",
        "from tensorflow.keras.layers import Conv2D , Dropout , Flatten , Dense , MaxPooling2D\n",
        "from tensorflow.keras.optimizers import Adam\n",
        "from tensorflow.keras.preprocessing.image import ImageDataGenerator\n",
        "import numpy as np\n",
        "import matplotlib.pyplot as plt\n"
      ],
      "metadata": {
        "id": "7Y-MP8Ple3iM"
      },
      "execution_count": null,
      "outputs": []
    },
    {
      "cell_type": "code",
      "source": [
        "from google.colab import drive\n",
        "drive.mount('/content/drive/')"
      ],
      "metadata": {
        "id": "TXevUBORpLPt",
        "colab": {
          "base_uri": "https://localhost:8080/"
        },
        "outputId": "804b8258-4ac5-4880-d955-c39eab6e5bd1"
      },
      "execution_count": null,
      "outputs": [
        {
          "output_type": "stream",
          "name": "stdout",
          "text": [
            "Drive already mounted at /content/drive/; to attempt to forcibly remount, call drive.mount(\"/content/drive/\", force_remount=True).\n"
          ]
        }
      ]
    },
    {
      "cell_type": "code",
      "source": [
        "!unzip -uq \"/content/drive/MyDrive/Facemask/archive\" -d \"/content/drive/MyDrive/Facemask/archive\""
      ],
      "metadata": {
        "id": "HIIpyHR0pvh8"
      },
      "execution_count": null,
      "outputs": []
    },
    {
      "cell_type": "code",
      "source": [
        "import os\n",
        "main_dir = '/content/drive/MyDrive/Facemask/archive/New Masks Dataset'\n",
        "test_dir = os.path.join(main_dir , 'Test')\n",
        "train_dir = os.path.join(main_dir , 'Train')\n",
        "valid_dir = os.path.join(main_dir , 'Validation')\n",
        "\n",
        "train_mask_dir = os.path.join(train_dir , 'Mask')\n",
        "train_nomask_dir = os.path.join(train_dir , 'Non Mask')\n"
      ],
      "metadata": {
        "id": "ZIwfoaC_n0yv"
      },
      "execution_count": null,
      "outputs": []
    },
    {
      "cell_type": "code",
      "source": [
        "print(train_dir)\n"
      ],
      "metadata": {
        "colab": {
          "base_uri": "https://localhost:8080/"
        },
        "id": "dyia7812CNJI",
        "outputId": "c2d6cf71-2a13-4b61-c412-6144318790f0"
      },
      "execution_count": null,
      "outputs": [
        {
          "output_type": "stream",
          "name": "stdout",
          "text": [
            "/content/drive/MyDrive/Facemask/archive/New Masks Dataset/Train\n"
          ]
        }
      ]
    },
    {
      "cell_type": "code",
      "source": [
        "import os\n",
        "train_mask_names = os.listdir(train_mask_dir)\n",
        "print(train_mask_names[:10])\n",
        "\n",
        "train_nomask_names = os.listdir(train_nomask_dir)\n",
        "print(train_nomask_names[:10])"
      ],
      "metadata": {
        "colab": {
          "base_uri": "https://localhost:8080/"
        },
        "id": "emyK6hoEpXzC",
        "outputId": "3bea55f6-ea9a-4dcb-f721-b3e575648aa5"
      },
      "execution_count": null,
      "outputs": [
        {
          "output_type": "stream",
          "name": "stdout",
          "text": [
            "['0006.jpg', '0018.jpg', '0027.jpg', '0037.jpg', '0022.jpg', '0029.jpg', '0019.jpg', '0042.jpg', '0040.jpg', '0003.jpg']\n",
            "['125.jpg', '108.jpg', '155.jpg', '128.jpg', '157.jpg', '135.jpg', '142.jpg', '114.jpg', '105.jpg', '132.jpg']\n"
          ]
        }
      ]
    },
    {
      "cell_type": "code",
      "source": [
        "train_datagen = ImageDataGenerator(rescale=1./255,\n",
        "                                   zoom_range=0.2,\n",
        "                                   rotation_range= 40,\n",
        "                                   horizontal_flip= True\n",
        "                                   )\n",
        "test_datagen = ImageDataGenerator(rescale=1./255)\n",
        "validation_datagen = ImageDataGenerator(rescale=1./255)\n",
        "\n",
        "train_generator = train_datagen.flow_from_directory(train_dir,\n",
        "                                                    target_size=(150 , 150),\n",
        "                                                    batch_size = 32,\n",
        "                                                    class_mode = 'binary'\n",
        "                                                    )\n",
        "\n",
        "\n",
        "test_generator = test_datagen.flow_from_directory(test_dir,\n",
        "                                                    target_size=(150 , 150),\n",
        "                                                    batch_size = 32,\n",
        "                                                    class_mode = 'binary'\n",
        "                                                    )\n",
        "\n",
        "valid_generator = validation_datagen.flow_from_directory(valid_dir,\n",
        "                                                    target_size=(150 , 150),\n",
        "                                                    batch_size = 32,\n",
        "                                                    class_mode = 'binary'\n",
        "                                                    )"
      ],
      "metadata": {
        "id": "7NIu6Z7Nvz0a",
        "colab": {
          "base_uri": "https://localhost:8080/"
        },
        "outputId": "40e81dc5-d031-4abf-9b27-b96bead0fc3f"
      },
      "execution_count": null,
      "outputs": [
        {
          "output_type": "stream",
          "name": "stdout",
          "text": [
            "Found 600 images belonging to 2 classes.\n",
            "Found 100 images belonging to 2 classes.\n",
            "Found 306 images belonging to 2 classes.\n"
          ]
        }
      ]
    },
    {
      "cell_type": "code",
      "source": [
        "train_generator.class_indices"
      ],
      "metadata": {
        "id": "w7YQXS--jJEA",
        "colab": {
          "base_uri": "https://localhost:8080/"
        },
        "outputId": "b721dea7-1c14-4944-a2a4-9eb7a92ae572"
      },
      "execution_count": null,
      "outputs": [
        {
          "output_type": "execute_result",
          "data": {
            "text/plain": [
              "{'Mask': 0, 'Non Mask': 1}"
            ]
          },
          "metadata": {},
          "execution_count": 15
        }
      ]
    },
    {
      "cell_type": "code",
      "source": [
        "train_generator.image_shape"
      ],
      "metadata": {
        "id": "PCtOm78YyG9O",
        "colab": {
          "base_uri": "https://localhost:8080/"
        },
        "outputId": "006eb003-043c-47fd-c115-895b0c586ff4"
      },
      "execution_count": null,
      "outputs": [
        {
          "output_type": "execute_result",
          "data": {
            "text/plain": [
              "(150, 150, 3)"
            ]
          },
          "metadata": {},
          "execution_count": 16
        }
      ]
    },
    {
      "cell_type": "code",
      "source": [
        "model = Sequential()\n",
        "model.add(Conv2D(32,(3,3), padding = 'SAME' , activation = 'relu' , input_shape=(150 ,150 , 3)))\n",
        "model.add(MaxPooling2D(pool_size=(2 , 2)))\n",
        "model.add(Dropout(0.5))\n",
        "\n",
        "model.add(Conv2D(64,(3,3), padding= 'SAME', activation= 'relu'))\n",
        "model.add(MaxPooling2D(pool_size=(2 , 2)))\n",
        "model.add(Dropout(0.5))\n",
        "\n",
        "model.add(Flatten())\n",
        "\n",
        "\n",
        "model.add(Dense(256 , activation= 'relu'))\n",
        "model.add(Dropout(0.5))\n",
        "model.add(Dense(1 , activation= 'sigmoid'))\n",
        "model.summary()"
      ],
      "metadata": {
        "id": "aRiHR1i4BqQ_",
        "colab": {
          "base_uri": "https://localhost:8080/"
        },
        "outputId": "f2c07d48-673f-4988-d163-7e7c7a336674"
      },
      "execution_count": null,
      "outputs": [
        {
          "output_type": "stream",
          "name": "stdout",
          "text": [
            "Model: \"sequential\"\n",
            "_________________________________________________________________\n",
            " Layer (type)                Output Shape              Param #   \n",
            "=================================================================\n",
            " conv2d (Conv2D)             (None, 150, 150, 32)      896       \n",
            "                                                                 \n",
            " max_pooling2d (MaxPooling2D  (None, 75, 75, 32)       0         \n",
            " )                                                               \n",
            "                                                                 \n",
            " dropout (Dropout)           (None, 75, 75, 32)        0         \n",
            "                                                                 \n",
            " conv2d_1 (Conv2D)           (None, 75, 75, 64)        18496     \n",
            "                                                                 \n",
            " max_pooling2d_1 (MaxPooling  (None, 37, 37, 64)       0         \n",
            " 2D)                                                             \n",
            "                                                                 \n",
            " dropout_1 (Dropout)         (None, 37, 37, 64)        0         \n",
            "                                                                 \n",
            " flatten (Flatten)           (None, 87616)             0         \n",
            "                                                                 \n",
            " dense (Dense)               (None, 256)               22429952  \n",
            "                                                                 \n",
            " dropout_2 (Dropout)         (None, 256)               0         \n",
            "                                                                 \n",
            " dense_1 (Dense)             (None, 1)                 257       \n",
            "                                                                 \n",
            "=================================================================\n",
            "Total params: 22,449,601\n",
            "Trainable params: 22,449,601\n",
            "Non-trainable params: 0\n",
            "_________________________________________________________________\n"
          ]
        }
      ]
    },
    {
      "cell_type": "code",
      "source": [
        "model.compile(Adam(lr=0.001), loss='binary_crossentropy', metrics=['accuracy'])"
      ],
      "metadata": {
        "colab": {
          "base_uri": "https://localhost:8080/"
        },
        "id": "LP3iLykHXZJC",
        "outputId": "7c05e245-fbe0-43e1-9b4f-844507882e6f"
      },
      "execution_count": null,
      "outputs": [
        {
          "output_type": "stream",
          "name": "stderr",
          "text": [
            "/usr/local/lib/python3.7/dist-packages/keras/optimizer_v2/adam.py:105: UserWarning: The `lr` argument is deprecated, use `learning_rate` instead.\n",
            "  super(Adam, self).__init__(name, **kwargs)\n"
          ]
        }
      ]
    },
    {
      "cell_type": "code",
      "source": [
        "history = model.fit(train_generator,\n",
        "                    epochs = 40,\n",
        "                    validation_data = valid_generator)"
      ],
      "metadata": {
        "colab": {
          "base_uri": "https://localhost:8080/"
        },
        "id": "rVfzCfKiTSFV",
        "outputId": "84d70445-81c5-4d88-dca0-cf4ea64f4ffb"
      },
      "execution_count": null,
      "outputs": [
        {
          "output_type": "stream",
          "name": "stdout",
          "text": [
            "Epoch 1/40\n",
            "19/19 [==============================] - 40s 2s/step - loss: 0.1503 - accuracy: 0.9483 - val_loss: 0.2648 - val_accuracy: 0.8889\n",
            "Epoch 2/40\n",
            "19/19 [==============================] - 39s 2s/step - loss: 0.1375 - accuracy: 0.9467 - val_loss: 0.2158 - val_accuracy: 0.8987\n",
            "Epoch 3/40\n",
            "19/19 [==============================] - 39s 2s/step - loss: 0.1259 - accuracy: 0.9583 - val_loss: 0.2357 - val_accuracy: 0.8954\n",
            "Epoch 4/40\n",
            "19/19 [==============================] - 39s 2s/step - loss: 0.1207 - accuracy: 0.9500 - val_loss: 0.2366 - val_accuracy: 0.9052\n",
            "Epoch 5/40\n",
            "19/19 [==============================] - 39s 2s/step - loss: 0.1362 - accuracy: 0.9550 - val_loss: 0.2439 - val_accuracy: 0.8889\n",
            "Epoch 6/40\n",
            "19/19 [==============================] - 39s 2s/step - loss: 0.1319 - accuracy: 0.9600 - val_loss: 0.2572 - val_accuracy: 0.9085\n",
            "Epoch 7/40\n",
            "19/19 [==============================] - 39s 2s/step - loss: 0.1425 - accuracy: 0.9567 - val_loss: 0.2296 - val_accuracy: 0.9085\n",
            "Epoch 8/40\n",
            "19/19 [==============================] - 39s 2s/step - loss: 0.1356 - accuracy: 0.9483 - val_loss: 0.2476 - val_accuracy: 0.9020\n",
            "Epoch 9/40\n",
            "19/19 [==============================] - 39s 2s/step - loss: 0.1215 - accuracy: 0.9517 - val_loss: 0.2540 - val_accuracy: 0.9020\n",
            "Epoch 10/40\n",
            "19/19 [==============================] - 39s 2s/step - loss: 0.1073 - accuracy: 0.9567 - val_loss: 0.2699 - val_accuracy: 0.9150\n",
            "Epoch 11/40\n",
            "19/19 [==============================] - 39s 2s/step - loss: 0.1030 - accuracy: 0.9567 - val_loss: 0.3011 - val_accuracy: 0.9085\n",
            "Epoch 12/40\n",
            "19/19 [==============================] - 39s 2s/step - loss: 0.1171 - accuracy: 0.9583 - val_loss: 0.3419 - val_accuracy: 0.8758\n",
            "Epoch 13/40\n",
            "19/19 [==============================] - 39s 2s/step - loss: 0.1438 - accuracy: 0.9433 - val_loss: 0.2447 - val_accuracy: 0.9118\n",
            "Epoch 14/40\n",
            "19/19 [==============================] - 39s 2s/step - loss: 0.1304 - accuracy: 0.9567 - val_loss: 0.2596 - val_accuracy: 0.9020\n",
            "Epoch 15/40\n",
            "19/19 [==============================] - 39s 2s/step - loss: 0.1107 - accuracy: 0.9633 - val_loss: 0.2845 - val_accuracy: 0.9150\n",
            "Epoch 16/40\n",
            "19/19 [==============================] - 39s 2s/step - loss: 0.1126 - accuracy: 0.9517 - val_loss: 0.2774 - val_accuracy: 0.9150\n",
            "Epoch 17/40\n",
            "19/19 [==============================] - 39s 2s/step - loss: 0.1317 - accuracy: 0.9383 - val_loss: 0.2697 - val_accuracy: 0.9085\n",
            "Epoch 18/40\n",
            "19/19 [==============================] - 39s 2s/step - loss: 0.1252 - accuracy: 0.9500 - val_loss: 0.2829 - val_accuracy: 0.8987\n",
            "Epoch 19/40\n",
            "19/19 [==============================] - 39s 2s/step - loss: 0.1147 - accuracy: 0.9517 - val_loss: 0.2593 - val_accuracy: 0.9150\n",
            "Epoch 20/40\n",
            "19/19 [==============================] - 39s 2s/step - loss: 0.1251 - accuracy: 0.9483 - val_loss: 0.2729 - val_accuracy: 0.8987\n",
            "Epoch 21/40\n",
            "19/19 [==============================] - 39s 2s/step - loss: 0.1329 - accuracy: 0.9483 - val_loss: 0.2749 - val_accuracy: 0.8987\n",
            "Epoch 22/40\n",
            "19/19 [==============================] - 39s 2s/step - loss: 0.1020 - accuracy: 0.9583 - val_loss: 0.2817 - val_accuracy: 0.8889\n",
            "Epoch 23/40\n",
            "19/19 [==============================] - 39s 2s/step - loss: 0.1427 - accuracy: 0.9383 - val_loss: 0.2806 - val_accuracy: 0.9118\n",
            "Epoch 24/40\n",
            "19/19 [==============================] - 39s 2s/step - loss: 0.1334 - accuracy: 0.9500 - val_loss: 0.2681 - val_accuracy: 0.9150\n",
            "Epoch 25/40\n",
            "19/19 [==============================] - 39s 2s/step - loss: 0.1097 - accuracy: 0.9550 - val_loss: 0.2479 - val_accuracy: 0.9085\n",
            "Epoch 26/40\n",
            "19/19 [==============================] - 39s 2s/step - loss: 0.1034 - accuracy: 0.9583 - val_loss: 0.2388 - val_accuracy: 0.9150\n",
            "Epoch 27/40\n",
            "19/19 [==============================] - 39s 2s/step - loss: 0.1068 - accuracy: 0.9600 - val_loss: 0.2840 - val_accuracy: 0.9085\n",
            "Epoch 28/40\n",
            "19/19 [==============================] - 38s 2s/step - loss: 0.1074 - accuracy: 0.9550 - val_loss: 0.2836 - val_accuracy: 0.9183\n",
            "Epoch 29/40\n",
            "19/19 [==============================] - 39s 2s/step - loss: 0.1219 - accuracy: 0.9483 - val_loss: 0.3047 - val_accuracy: 0.9020\n",
            "Epoch 30/40\n",
            "19/19 [==============================] - 39s 2s/step - loss: 0.1030 - accuracy: 0.9617 - val_loss: 0.3091 - val_accuracy: 0.9052\n",
            "Epoch 31/40\n",
            "19/19 [==============================] - 39s 2s/step - loss: 0.1256 - accuracy: 0.9483 - val_loss: 0.2706 - val_accuracy: 0.9183\n",
            "Epoch 32/40\n",
            "19/19 [==============================] - 39s 2s/step - loss: 0.1485 - accuracy: 0.9417 - val_loss: 0.2858 - val_accuracy: 0.9150\n",
            "Epoch 33/40\n",
            "19/19 [==============================] - 39s 2s/step - loss: 0.1687 - accuracy: 0.9350 - val_loss: 0.2277 - val_accuracy: 0.9052\n",
            "Epoch 34/40\n",
            "19/19 [==============================] - 39s 2s/step - loss: 0.1113 - accuracy: 0.9550 - val_loss: 0.2758 - val_accuracy: 0.9150\n",
            "Epoch 35/40\n",
            "19/19 [==============================] - 39s 2s/step - loss: 0.1148 - accuracy: 0.9550 - val_loss: 0.2682 - val_accuracy: 0.9216\n",
            "Epoch 36/40\n",
            "19/19 [==============================] - 39s 2s/step - loss: 0.1087 - accuracy: 0.9550 - val_loss: 0.3175 - val_accuracy: 0.8725\n",
            "Epoch 37/40\n",
            "19/19 [==============================] - 39s 2s/step - loss: 0.1086 - accuracy: 0.9617 - val_loss: 0.2938 - val_accuracy: 0.8987\n",
            "Epoch 38/40\n",
            "19/19 [==============================] - 39s 2s/step - loss: 0.1047 - accuracy: 0.9583 - val_loss: 0.2496 - val_accuracy: 0.9085\n",
            "Epoch 39/40\n",
            "19/19 [==============================] - 39s 2s/step - loss: 0.0884 - accuracy: 0.9600 - val_loss: 0.3021 - val_accuracy: 0.9052\n",
            "Epoch 40/40\n",
            "19/19 [==============================] - 39s 2s/step - loss: 0.0872 - accuracy: 0.9667 - val_loss: 0.2866 - val_accuracy: 0.9052\n"
          ]
        }
      ]
    },
    {
      "cell_type": "code",
      "source": [
        "test_loss , test_acc = model.evaluate(test_generator)\n",
        "print('test_acc:{} test_loss{}'.format(test_acc , test_loss))"
      ],
      "metadata": {
        "colab": {
          "base_uri": "https://localhost:8080/",
          "height": 183
        },
        "id": "Sx_hRvN5eueH",
        "outputId": "21936ce4-13d0-4e6a-b4c0-b3444cc6004a"
      },
      "execution_count": null,
      "outputs": [
        {
          "output_type": "error",
          "ename": "NameError",
          "evalue": "ignored",
          "traceback": [
            "\u001b[0;31m---------------------------------------------------------------------------\u001b[0m",
            "\u001b[0;31mNameError\u001b[0m                                 Traceback (most recent call last)",
            "\u001b[0;32m<ipython-input-2-bebff4c4bd23>\u001b[0m in \u001b[0;36m<module>\u001b[0;34m()\u001b[0m\n\u001b[0;32m----> 1\u001b[0;31m \u001b[0mtest_loss\u001b[0m \u001b[0;34m,\u001b[0m \u001b[0mtest_acc\u001b[0m \u001b[0;34m=\u001b[0m \u001b[0mmodel\u001b[0m\u001b[0;34m.\u001b[0m\u001b[0mevaluate\u001b[0m\u001b[0;34m(\u001b[0m\u001b[0mtest_generator\u001b[0m\u001b[0;34m)\u001b[0m\u001b[0;34m\u001b[0m\u001b[0;34m\u001b[0m\u001b[0m\n\u001b[0m\u001b[1;32m      2\u001b[0m \u001b[0mprint\u001b[0m\u001b[0;34m(\u001b[0m\u001b[0;34m'test_acc:{} test_loss{}'\u001b[0m\u001b[0;34m.\u001b[0m\u001b[0mformat\u001b[0m\u001b[0;34m(\u001b[0m\u001b[0mtest_acc\u001b[0m \u001b[0;34m,\u001b[0m \u001b[0mtest_loss\u001b[0m\u001b[0;34m)\u001b[0m\u001b[0;34m)\u001b[0m\u001b[0;34m\u001b[0m\u001b[0;34m\u001b[0m\u001b[0m\n",
            "\u001b[0;31mNameError\u001b[0m: name 'model' is not defined"
          ]
        }
      ]
    },
    {
      "cell_type": "code",
      "source": [
        "import numpy as np\n",
        "from google.colab import files\n",
        "from keras.preprocessing import image\n",
        "\n",
        "uploaded = files.upload()\n",
        "#print(uploaded)\n",
        "for f in uploaded.keys():\n",
        "  img_path = '/content/' + f\n",
        "  img = image.load_img(img_path , target_size=(150,150))\n",
        "  images = image.img_to_array(img)\n",
        "  images = np.expand_dims(images , axis=0)\n",
        "  prediction = model.predict(images)\n",
        "\n",
        "  if prediction==0:\n",
        "    print(f , 'Mask is there')\n",
        "  else:\n",
        "    print(f , 'No mask is there')"
      ],
      "metadata": {
        "colab": {
          "resources": {
            "http://localhost:8080/nbextensions/google.colab/files.js": {
              "data": "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",
              "ok": true,
              "headers": [
                [
                  "content-type",
                  "application/javascript"
                ]
              ],
              "status": 200,
              "status_text": ""
            }
          },
          "base_uri": "https://localhost:8080/",
          "height": 290
        },
        "id": "-jqu7k5HfYKK",
        "outputId": "8be4d712-568d-4e2a-9323-836f2005086c"
      },
      "execution_count": null,
      "outputs": [
        {
          "output_type": "display_data",
          "data": {
            "text/html": [
              "\n",
              "     <input type=\"file\" id=\"files-6de614ee-951b-435a-bb33-f028cdcc47bb\" name=\"files[]\" multiple disabled\n",
              "        style=\"border:none\" />\n",
              "     <output id=\"result-6de614ee-951b-435a-bb33-f028cdcc47bb\">\n",
              "      Upload widget is only available when the cell has been executed in the\n",
              "      current browser session. Please rerun this cell to enable.\n",
              "      </output>\n",
              "      <script src=\"/nbextensions/google.colab/files.js\"></script> "
            ],
            "text/plain": [
              "<IPython.core.display.HTML object>"
            ]
          },
          "metadata": {}
        },
        {
          "output_type": "stream",
          "name": "stdout",
          "text": [
            "Saving 0003.jpg to 0003.jpg\n"
          ]
        },
        {
          "output_type": "error",
          "ename": "NameError",
          "evalue": "ignored",
          "traceback": [
            "\u001b[0;31m---------------------------------------------------------------------------\u001b[0m",
            "\u001b[0;31mNameError\u001b[0m                                 Traceback (most recent call last)",
            "\u001b[0;32m<ipython-input-1-c57534967972>\u001b[0m in \u001b[0;36m<module>\u001b[0;34m()\u001b[0m\n\u001b[1;32m     10\u001b[0m   \u001b[0mimages\u001b[0m \u001b[0;34m=\u001b[0m \u001b[0mimage\u001b[0m\u001b[0;34m.\u001b[0m\u001b[0mimg_to_array\u001b[0m\u001b[0;34m(\u001b[0m\u001b[0mimg\u001b[0m\u001b[0;34m)\u001b[0m\u001b[0;34m\u001b[0m\u001b[0;34m\u001b[0m\u001b[0m\n\u001b[1;32m     11\u001b[0m   \u001b[0mimages\u001b[0m \u001b[0;34m=\u001b[0m \u001b[0mnp\u001b[0m\u001b[0;34m.\u001b[0m\u001b[0mexpand_dims\u001b[0m\u001b[0;34m(\u001b[0m\u001b[0mimages\u001b[0m \u001b[0;34m,\u001b[0m \u001b[0maxis\u001b[0m\u001b[0;34m=\u001b[0m\u001b[0;36m0\u001b[0m\u001b[0;34m)\u001b[0m\u001b[0;34m\u001b[0m\u001b[0;34m\u001b[0m\u001b[0m\n\u001b[0;32m---> 12\u001b[0;31m   \u001b[0mprediction\u001b[0m \u001b[0;34m=\u001b[0m \u001b[0mmodel\u001b[0m\u001b[0;34m.\u001b[0m\u001b[0mpredict\u001b[0m\u001b[0;34m(\u001b[0m\u001b[0mimages\u001b[0m\u001b[0;34m)\u001b[0m\u001b[0;34m\u001b[0m\u001b[0;34m\u001b[0m\u001b[0m\n\u001b[0m\u001b[1;32m     13\u001b[0m \u001b[0;34m\u001b[0m\u001b[0m\n\u001b[1;32m     14\u001b[0m   \u001b[0;32mif\u001b[0m \u001b[0mprediction\u001b[0m\u001b[0;34m==\u001b[0m\u001b[0;36m0\u001b[0m\u001b[0;34m:\u001b[0m\u001b[0;34m\u001b[0m\u001b[0;34m\u001b[0m\u001b[0m\n",
            "\u001b[0;31mNameError\u001b[0m: name 'model' is not defined"
          ]
        }
      ]
    },
    {
      "cell_type": "code",
      "source": [
        "model.save('New_Saved_model.h5')"
      ],
      "metadata": {
        "id": "OaYi-jBxtNax"
      },
      "execution_count": null,
      "outputs": []
    },
    {
      "cell_type": "code",
      "source": [
        ""
      ],
      "metadata": {
        "id": "8avLy1Xpt31Y"
      },
      "execution_count": null,
      "outputs": []
    }
  ]
}